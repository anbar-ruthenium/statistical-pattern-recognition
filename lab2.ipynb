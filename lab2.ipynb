{
 "cells": [
  {
   "cell_type": "markdown",
   "id": "c23e11b3",
   "metadata": {},
   "source": [
    "# Лабораторна №2"
   ]
  },
  {
   "cell_type": "markdown",
   "id": "071b39b0",
   "metadata": {},
   "source": [
    "Згенерувати N (наприклад, 50) тривимірних незалежних векторів, в яких всі координати незалежні, \n",
    "перші дві показниково розподілені з параметром 1, третя має стандартний нормальний розподіл.\n",
    "\n",
    "Реалізувати алгоритм Козинця пошуку розділяючого вектора з опуклої оболонки цих векторів."
   ]
  },
  {
   "cell_type": "code",
   "execution_count": 1,
   "id": "a698a636",
   "metadata": {},
   "outputs": [
    {
     "name": "stderr",
     "output_type": "stream",
     "text": [
      "/home/hermit/anaconda3/envs/my_env/lib/python3.10/site-packages/scipy/__init__.py:146: UserWarning: A NumPy version >=1.16.5 and <1.23.0 is required for this version of SciPy (detected version 1.26.2\n",
      "  warnings.warn(f\"A NumPy version >={np_minversion} and <{np_maxversion}\"\n"
     ]
    }
   ],
   "source": [
    "from scipy.optimize import golden\n",
    "\n",
    "def kozinets_algorithm(x, at):\n",
    "    for j in range(0, x.shape[0]):\n",
    "        scalar_mult = np.dot(x[j],at)\n",
    "        \n",
    "        if scalar_mult <= 0:\n",
    "            \n",
    "            print(f\"Знайдений вектор x^j задовольняє умову (a_t,x^j)<=0\") \n",
    "            print(f\"j: {j}, \\nx^j: {x[j]}, \\na_t: {at}, \\nscalar_mult: {scalar_mult}\")\n",
    "            xt = x[j]\n",
    "\n",
    "            def f(k):\n",
    "                return np.linalg.norm((1-k)*at+k*xt)\n",
    "\n",
    "            k = golden(f, full_output=True)[0]\n",
    "            at1 = (1-k)*at+k*xt\n",
    "            \n",
    "            print(\"a_t1: \", at1, \"\\n\")\n",
    "            \n",
    "            at = kozinets_algorithm(x, at1)\n",
    "\n",
    "    return at"
   ]
  },
  {
   "cell_type": "code",
   "execution_count": 2,
   "id": "0cc31843",
   "metadata": {},
   "outputs": [
    {
     "name": "stdout",
     "output_type": "stream",
     "text": [
      "shape: (50, 3)\n"
     ]
    }
   ],
   "source": [
    "import numpy as np\n",
    "\n",
    "n = 50\n",
    "\n",
    "vectors=np.column_stack([\n",
    "    np.random.exponential(scale=1, size=(n, 1)),\n",
    "    np.random.exponential(scale=1, size=(n, 1)),\n",
    "    np.random.normal(scale=1, size=(n, 1))])\n",
    "print(\"shape:\", vectors.shape)"
   ]
  },
  {
   "cell_type": "code",
   "execution_count": 3,
   "id": "1e83657b",
   "metadata": {},
   "outputs": [
    {
     "data": {
      "text/plain": [
       "array([[ 3.23910277e-01,  8.88697308e-01, -1.39269515e+00],\n",
       "       [ 5.97218950e-02,  4.77799656e-01,  5.02286630e-01],\n",
       "       [ 8.81618185e-01,  4.53090330e+00, -1.80805262e-01],\n",
       "       [ 1.67693143e+00,  3.47997993e-01, -1.30507634e+00],\n",
       "       [ 2.77766554e-01,  3.15719345e-03, -4.85457780e-01],\n",
       "       [ 2.10215209e+00,  4.40032531e-01, -6.14588547e-01],\n",
       "       [ 4.34762845e-01,  8.83993857e-01, -5.09707179e-01],\n",
       "       [ 1.95698756e+00,  5.04167539e+00,  1.62096087e+00],\n",
       "       [ 2.04478901e-01,  3.20638699e-01,  3.87148605e-01],\n",
       "       [ 3.38006605e-01,  2.00769384e+00, -6.29393919e-01],\n",
       "       [ 1.48587182e+00,  8.30432929e-01, -2.40184669e-01],\n",
       "       [ 2.79432553e-01,  2.22792584e-01,  1.71168809e+00],\n",
       "       [ 2.75075692e-01,  3.09086915e-02, -5.77789756e-01],\n",
       "       [ 1.48260059e+00,  2.37585074e-01, -2.45434776e-01],\n",
       "       [ 1.44217438e+00,  7.25555960e-01,  8.49432697e-02],\n",
       "       [ 2.12280342e+00,  2.96374392e-01, -1.72178574e+00],\n",
       "       [ 3.93617749e+00,  1.51268964e+00, -3.27028952e+00],\n",
       "       [ 2.71761974e-01,  1.14362375e+00, -1.87429791e+00],\n",
       "       [ 1.73307635e+00,  6.60323436e-01, -2.77583264e-01],\n",
       "       [ 3.11972710e+00,  1.37518562e+00, -1.24773990e+00],\n",
       "       [ 2.67542366e-01,  3.95868124e-01, -8.54404369e-01],\n",
       "       [ 1.28563256e+00,  1.11036472e+00,  1.40507080e+00],\n",
       "       [ 1.34500837e+00,  4.43446715e-01,  1.07390474e+00],\n",
       "       [ 4.55903560e-01,  1.12193173e-01,  2.14270714e-01],\n",
       "       [ 1.24089280e+00,  1.78700931e+00, -1.06492383e+00]])"
      ]
     },
     "execution_count": 3,
     "metadata": {},
     "output_type": "execute_result"
    }
   ],
   "source": [
    "vectors[:25]"
   ]
  },
  {
   "cell_type": "code",
   "execution_count": 4,
   "id": "d49a9e68",
   "metadata": {},
   "outputs": [
    {
     "name": "stdout",
     "output_type": "stream",
     "text": [
      "Знайдений вектор x^j задовольняє умову (a_t,x^j)<=0\n",
      "j: 1, \n",
      "x^j: [0.0597219  0.47779966 0.50228663], \n",
      "a_t: [ 0.32391028  0.88869731 -1.39269515], \n",
      "scalar_mult: -0.2555683477268472\n",
      "a_t1:  [0.11075226 0.55716823 0.13625386] \n",
      "\n",
      "Знайдений вектор x^j задовольняє умову (a_t,x^j)<=0\n",
      "j: 4, \n",
      "x^j: [ 0.27776655  0.00315719 -0.48545778], \n",
      "a_t: [0.11075226 0.55716823 0.13625386], \n",
      "scalar_mult: -0.03362313706711991\n",
      "a_t1:  [ 0.1975511   0.26924368 -0.1868553 ] \n",
      "\n",
      "Знайдений вектор x^j задовольняє умову (a_t,x^j)<=0\n",
      "j: 11, \n",
      "x^j: [0.27943255 0.22279258 1.71168809], \n",
      "a_t: [ 0.1975511   0.26924368 -0.1868553 ], \n",
      "scalar_mult: -0.2046502921301744\n",
      "a_t1:  [ 0.20550699  0.26473033 -0.00238614] \n",
      "\n",
      "\n",
      "Розділяючий вектор:  [ 0.20550699  0.26473033 -0.00238614]\n"
     ]
    }
   ],
   "source": [
    "roz_vect = kozinets_algorithm(vectors, vectors[0])\n",
    "print(\"\\nРозділяючий вектор: \", roz_vect)"
   ]
  }
 ],
 "metadata": {
  "kernelspec": {
   "display_name": "Python 3 (ipykernel)",
   "language": "python",
   "name": "python3"
  },
  "language_info": {
   "codemirror_mode": {
    "name": "ipython",
    "version": 3
   },
   "file_extension": ".py",
   "mimetype": "text/x-python",
   "name": "python",
   "nbconvert_exporter": "python",
   "pygments_lexer": "ipython3",
   "version": "3.10.13"
  }
 },
 "nbformat": 4,
 "nbformat_minor": 5
}
