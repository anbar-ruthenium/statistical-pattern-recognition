{
 "cells": [
  {
   "cell_type": "markdown",
   "id": "8c8e90bf",
   "metadata": {},
   "source": [
    "# Лабораторна робота №1"
   ]
  },
  {
   "cell_type": "markdown",
   "id": "3eadaf40",
   "metadata": {},
   "source": [
    "Дана послідовність з 0 та 1, яка була отримана зміною кожної цифри початкової послідовності(яка також була з 0 і 1) з ймовірністю 0.5 для кожної цифри, незалежно одна від одної.\n",
    "\n",
    "Потрібно знайти оптимальну стратегію для відшукання суми всіх цифр початкової послідовності. \n",
    "\n",
    "Штрафною функцією буде різниця між сумами 2 послідовностей в квадраті."
   ]
  },
  {
   "cell_type": "markdown",
   "id": "c65dea44",
   "metadata": {},
   "source": [
    "$$ K = \\{ 0, 1 \\} ^n,  X = \\{ 0, 1 \\} ^n,  D = \\{ 0, \\dots, n \\} $$\n",
    "\n",
    "$$ W(q, k) = (q - \\sum_{i=1}^{n} k_i) ^2 \\text{, де } k \\in K $$\n",
    "\n",
    "$$ p(x, k) = \\frac{1}{2^n} \\cdot \\frac{1}{2^n},  \\sum_{{k} \\in K}  p(x, k) \\cdot W(q, k) \\rightarrow \\min_q $$"
   ]
  },
  {
   "cell_type": "code",
   "execution_count": 1,
   "id": "0a0760f9",
   "metadata": {},
   "outputs": [],
   "source": [
    "import itertools\n",
    "import numpy as np\n",
    "\n",
    "def optimal_strategy(n):\n",
    "    k = [0,1]\n",
    "    q = []\n",
    "    \n",
    "    for x in itertools.product(k, repeat=n):\n",
    "        q.append(x)\n",
    "    \n",
    "    k = q\n",
    "    p_xk = (1/(2**n))*(1/(2**n))\n",
    "    \n",
    "    sum_min = []\n",
    "    for j in range(0, len(q)):\n",
    "        func = []\n",
    "        for i in range(0, len(k)):\n",
    "            func.append(p_xk*(sum(q[j])-sum(k[i]))**2)          \n",
    "        sum_min.append(sum(func))\n",
    "    q = sum(q[np.argmin(sum_min)])      \n",
    "            \n",
    "    return q"
   ]
  },
  {
   "cell_type": "code",
   "execution_count": 2,
   "id": "b1241485",
   "metadata": {},
   "outputs": [
    {
     "name": "stdout",
     "output_type": "stream",
     "text": [
      "Optimal q:  1\n"
     ]
    }
   ],
   "source": [
    "print(\"Optimal q: \", optimal_strategy(2))"
   ]
  },
  {
   "cell_type": "code",
   "execution_count": 3,
   "id": "13f4ac34",
   "metadata": {},
   "outputs": [
    {
     "name": "stdout",
     "output_type": "stream",
     "text": [
      "Optimal q:  2\n"
     ]
    }
   ],
   "source": [
    "print(\"Optimal q: \", optimal_strategy(4))"
   ]
  },
  {
   "cell_type": "code",
   "execution_count": 4,
   "id": "55117038",
   "metadata": {},
   "outputs": [
    {
     "name": "stdout",
     "output_type": "stream",
     "text": [
      "Optimal q:  3\n"
     ]
    }
   ],
   "source": [
    "print(\"Optimal q: \", optimal_strategy(6))"
   ]
  },
  {
   "cell_type": "code",
   "execution_count": 5,
   "id": "cd2ee9a9",
   "metadata": {},
   "outputs": [
    {
     "name": "stdout",
     "output_type": "stream",
     "text": [
      "Optimal q:  4\n"
     ]
    }
   ],
   "source": [
    "print(\"Optimal q: \", optimal_strategy(8))"
   ]
  },
  {
   "cell_type": "code",
   "execution_count": 6,
   "id": "41193438",
   "metadata": {},
   "outputs": [
    {
     "name": "stdout",
     "output_type": "stream",
     "text": [
      "Optimal q:  5\n"
     ]
    }
   ],
   "source": [
    "print(\"Optimal q: \", optimal_strategy(10))"
   ]
  },
  {
   "cell_type": "code",
   "execution_count": 7,
   "id": "5941352c",
   "metadata": {},
   "outputs": [
    {
     "name": "stdout",
     "output_type": "stream",
     "text": [
      "Optimal q:  6\n"
     ]
    }
   ],
   "source": [
    "print(\"Optimal q: \", optimal_strategy(12))"
   ]
  }
 ],
 "metadata": {
  "kernelspec": {
   "display_name": "Python 3 (ipykernel)",
   "language": "python",
   "name": "python3"
  },
  "language_info": {
   "codemirror_mode": {
    "name": "ipython",
    "version": 3
   },
   "file_extension": ".py",
   "mimetype": "text/x-python",
   "name": "python",
   "nbconvert_exporter": "python",
   "pygments_lexer": "ipython3",
   "version": "3.10.13"
  }
 },
 "nbformat": 4,
 "nbformat_minor": 5
}
